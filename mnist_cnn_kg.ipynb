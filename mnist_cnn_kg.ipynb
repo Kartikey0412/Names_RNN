{
  "nbformat": 4,
  "nbformat_minor": 0,
  "metadata": {
    "colab": {
      "name": "mnist_cnn_kg.ipynb",
      "provenance": [],
      "authorship_tag": "ABX9TyPtOaOZHvQ2S6rphyfwZyLr",
      "include_colab_link": true
    },
    "kernelspec": {
      "name": "python3",
      "display_name": "Python 3"
    },
    "accelerator": "GPU"
  },
  "cells": [
    {
      "cell_type": "markdown",
      "metadata": {
        "id": "view-in-github",
        "colab_type": "text"
      },
      "source": [
        "<a href=\"https://colab.research.google.com/github/Kartikey0412/Names_RNN/blob/master/mnist_cnn_kg.ipynb\" target=\"_parent\"><img src=\"https://colab.research.google.com/assets/colab-badge.svg\" alt=\"Open In Colab\"/></a>"
      ]
    },
    {
      "cell_type": "code",
      "metadata": {
        "id": "bqzZNe7PQjSI"
      },
      "source": [
        "import numpy as np # linear algebra\n",
        "import matplotlib.pyplot as plt\n",
        "%matplotlib inline\n",
        "from sklearn.model_selection import train_test_split\n",
        "from sklearn.metrics import confusion_matrix"
      ],
      "execution_count": null,
      "outputs": []
    },
    {
      "cell_type": "code",
      "metadata": {
        "id": "PD356A9SQ0Op"
      },
      "source": [
        "from keras.utils.np_utils import to_categorical # convert to one-hot-encoding\n",
        "from keras.models import Sequential\n",
        "from keras.layers import Dense, Dropout, Flatten, Conv2D, MaxPool2D, BatchNormalization\n",
        "from keras.optimizers import Adam\n",
        "from keras.preprocessing.image import ImageDataGenerator\n",
        "from keras.callbacks import LearningRateScheduler\n",
        "from keras.callbacks import EarlyStopping"
      ],
      "execution_count": null,
      "outputs": []
    },
    {
      "cell_type": "code",
      "metadata": {
        "id": "t9KTGIpQQ5r9"
      },
      "source": [
        "from keras.datasets import mnist\n",
        "(x_train, y_train), (x_test, y_test) = mnist.load_data()"
      ],
      "execution_count": null,
      "outputs": []
    },
    {
      "cell_type": "code",
      "metadata": {
        "colab": {
          "base_uri": "https://localhost:8080/",
          "height": 282
        },
        "id": "MgFElGhrTAA6",
        "outputId": "c9e60178-dad3-40e4-d97e-3dd7ade82b8a"
      },
      "source": [
        "plt.imshow(x_train[5], cmap='gray', interpolation='none')\n",
        "print(y_train[0])"
      ],
      "execution_count": null,
      "outputs": [
        {
          "output_type": "stream",
          "text": [
            "5\n"
          ],
          "name": "stdout"
        },
        {
          "output_type": "display_data",
          "data": {
            "image/png": "[encoded data removed]",
            "text/plain": [
              "<Figure size 432x288 with 1 Axes>"
            ]
          },
          "metadata": {
            "tags": [],
            "needs_background": "light"
          }
        }
      ]
    },
    {
      "cell_type": "code",
      "metadata": {
        "colab": {
          "base_uri": "https://localhost:8080/"
        },
        "id": "WQOuebD9TEao",
        "outputId": "8d1f85df-9a2f-4b45-fbc2-0a1bc6439c32"
      },
      "source": [
        "x_train = x_train.reshape(-1, 28, 28, 1)\n",
        "x_test = x_test.reshape(-1, 28, 28, 1)\n",
        "x_train = x_train.astype(\"float32\")/255.\n",
        "x_test = x_test.astype(\"float32\")/255.\n",
        "print(\"Training:\",x_train.shape)\n",
        "print(\"testing:\", x_test.shape)"
      ],
      "execution_count": null,
      "outputs": [
        {
          "output_type": "stream",
          "text": [
            "Training: (60000, 28, 28, 1)\n",
            "testing: (10000, 28, 28, 1)\n"
          ],
          "name": "stdout"
        }
      ]
    },
    {
      "cell_type": "code",
      "metadata": {
        "colab": {
          "base_uri": "https://localhost:8080/"
        },
        "id": "S2ZTvkXIVrk2",
        "outputId": "e3bbe932-0fb5-444a-b37d-424cea31b76d"
      },
      "source": [
        "n_classes = 10\n",
        "print(\"Shape before one-hot encoding: \", y_train.shape)\n",
        "y_train = to_categorical(y_train, n_classes)\n",
        "y_test = to_categorical(y_test, n_classes)\n",
        "print(\"Shape after one-hot encoding: \", y_train.shape)\n",
        "print(y_train[0])"
      ],
      "execution_count": null,
      "outputs": [
        {
          "output_type": "stream",
          "text": [
            "Shape before one-hot encoding:  (60000,)\n",
            "Shape after one-hot encoding:  (60000, 10)\n",
            "[0. 0. 0. 0. 0. 1. 0. 0. 0. 0.]\n"
          ],
          "name": "stdout"
        }
      ]
    },
    {
      "cell_type": "code",
      "metadata": {
        "id": "hp-Gq-FPUW1I"
      },
      "source": [
        "model = Sequential()\n",
        "\n",
        "model.add(Conv2D(filters = 16, kernel_size = (3, 3), activation='relu',\n",
        "                 input_shape = (28, 28, 1)))\n",
        "model.add(BatchNormalization())\n",
        "model.add(Conv2D(filters = 16, kernel_size = (3, 3), activation='relu'))\n",
        "model.add(BatchNormalization())\n",
        "#model.add(Conv2D(filters = 16, kernel_size = (3, 3), activation='relu'))\n",
        "#model.add(BatchNormalization())\n",
        "model.add(MaxPool2D(strides=(2,2)))\n",
        "model.add(Dropout(0.25))\n",
        "\n",
        "model.add(Conv2D(filters = 32, kernel_size = (3, 3), activation='relu'))\n",
        "model.add(BatchNormalization())\n",
        "model.add(Conv2D(filters = 32, kernel_size = (3, 3), activation='relu'))\n",
        "model.add(BatchNormalization())\n",
        "#model.add(Conv2D(filters = 32, kernel_size = (3, 3), activation='relu'))\n",
        "#model.add(BatchNormalization())\n",
        "model.add(MaxPool2D(strides=(2,2)))\n",
        "model.add(Dropout(0.25))\n",
        "\n",
        "model.add(Flatten())\n",
        "model.add(Dense(512, activation='relu'))\n",
        "model.add(Dropout(0.25))\n",
        "model.add(Dense(1024, activation='relu'))\n",
        "model.add(Dropout(0.5))\n",
        "model.add(Dense(10, activation='softmax'))"
      ],
      "execution_count": null,
      "outputs": []
    },
    {
      "cell_type": "code",
      "metadata": {
        "id": "YNFJUmyuUhHy"
      },
      "source": [
        "model.compile(loss='categorical_crossentropy', optimizer = Adam(lr=1e-4), metrics=[\"accuracy\"])"
      ],
      "execution_count": null,
      "outputs": []
    },
    {
      "cell_type": "code",
      "metadata": {
        "id": "7qRbJfXBUpEL"
      },
      "source": [
        "annealer = LearningRateScheduler(lambda x: 1e-3 * 0.9 ** x)\n",
        "es = EarlyStopping(monitor='val_loss', mode='min', verbose=1, patience=5)"
      ],
      "execution_count": null,
      "outputs": []
    },
    {
      "cell_type": "code",
      "metadata": {
        "colab": {
          "base_uri": "https://localhost:8080/"
        },
        "id": "xJYBtvr9Ur6o",
        "outputId": "5ab8c35d-3a4b-4602-f935-88a8f49ec2c4"
      },
      "source": [
        "history = model.fit(x_train, y_train,\n",
        "          batch_size=32, epochs=20,\n",
        "          verbose=2,\n",
        "          validation_data=(x_test, y_test), callbacks=[annealer, es])"
      ],
      "execution_count": null,
      "outputs": [
        {
          "output_type": "stream",
          "text": [
            "Epoch 1/20\n",
            "1875/1875 - 7s - loss: 0.1796 - accuracy: 0.9470 - val_loss: 0.0422 - val_accuracy: 0.9878\n",
            "Epoch 2/20\n",
            "1875/1875 - 6s - loss: 0.0845 - accuracy: 0.9767 - val_loss: 0.0475 - val_accuracy: 0.9879\n",
            "Epoch 3/20\n",
            "1875/1875 - 6s - loss: 0.0667 - accuracy: 0.9822 - val_loss: 0.0318 - val_accuracy: 0.9912\n",
            "Epoch 4/20\n",
            "1875/1875 - 6s - loss: 0.0570 - accuracy: 0.9844 - val_loss: 0.0341 - val_accuracy: 0.9905\n",
            "Epoch 5/20\n",
            "1875/1875 - 6s - loss: 0.0483 - accuracy: 0.9867 - val_loss: 0.0266 - val_accuracy: 0.9923\n",
            "Epoch 6/20\n",
            "1875/1875 - 6s - loss: 0.0398 - accuracy: 0.9887 - val_loss: 0.0253 - val_accuracy: 0.9923\n",
            "Epoch 7/20\n",
            "1875/1875 - 6s - loss: 0.0351 - accuracy: 0.9900 - val_loss: 0.0329 - val_accuracy: 0.9913\n",
            "Epoch 8/20\n",
            "1875/1875 - 6s - loss: 0.0308 - accuracy: 0.9917 - val_loss: 0.0222 - val_accuracy: 0.9939\n",
            "Epoch 9/20\n",
            "1875/1875 - 6s - loss: 0.0282 - accuracy: 0.9924 - val_loss: 0.0223 - val_accuracy: 0.9943\n",
            "Epoch 10/20\n",
            "1875/1875 - 6s - loss: 0.0241 - accuracy: 0.9930 - val_loss: 0.0243 - val_accuracy: 0.9942\n",
            "Epoch 11/20\n",
            "1875/1875 - 6s - loss: 0.0180 - accuracy: 0.9946 - val_loss: 0.0198 - val_accuracy: 0.9947\n",
            "Epoch 12/20\n",
            "1875/1875 - 6s - loss: 0.0186 - accuracy: 0.9949 - val_loss: 0.0233 - val_accuracy: 0.9941\n",
            "Epoch 13/20\n",
            "1875/1875 - 6s - loss: 0.0181 - accuracy: 0.9947 - val_loss: 0.0214 - val_accuracy: 0.9942\n",
            "Epoch 14/20\n",
            "1875/1875 - 6s - loss: 0.0146 - accuracy: 0.9956 - val_loss: 0.0184 - val_accuracy: 0.9958\n",
            "Epoch 15/20\n",
            "1875/1875 - 6s - loss: 0.0146 - accuracy: 0.9955 - val_loss: 0.0216 - val_accuracy: 0.9952\n",
            "Epoch 16/20\n",
            "1875/1875 - 6s - loss: 0.0124 - accuracy: 0.9965 - val_loss: 0.0253 - val_accuracy: 0.9947\n",
            "Epoch 17/20\n",
            "1875/1875 - 6s - loss: 0.0110 - accuracy: 0.9965 - val_loss: 0.0246 - val_accuracy: 0.9952\n",
            "Epoch 18/20\n",
            "1875/1875 - 6s - loss: 0.0110 - accuracy: 0.9967 - val_loss: 0.0239 - val_accuracy: 0.9953\n",
            "Epoch 19/20\n",
            "1875/1875 - 6s - loss: 0.0109 - accuracy: 0.9969 - val_loss: 0.0229 - val_accuracy: 0.9951\n",
            "Epoch 00019: early stopping\n"
          ],
          "name": "stdout"
        }
      ]
    },
    {
      "cell_type": "code",
      "metadata": {
        "colab": {
          "base_uri": "https://localhost:8080/",
          "height": 513
        },
        "id": "kwd2WCfpVCvB",
        "outputId": "8ba89be9-bd86-49e1-f046-d0e7a86878d9"
      },
      "source": [
        "plt.plot(history.history['loss'], color='b')\n",
        "plt.plot(history.history['val_loss'], color='r')\n",
        "plt.show()\n",
        "plt.plot(history.history['accuracy'], color='b')\n",
        "plt.plot(history.history['val_accuracy'], color='r')\n",
        "plt.show()"
      ],
      "execution_count": null,
      "outputs": [
        {
          "output_type": "display_data",
          "data": {
            "image/png": "[encoded data removed]",
            "text/plain": [
              "<Figure size 432x288 with 1 Axes>"
            ]
          },
          "metadata": {
            "tags": [],
            "needs_background": "light"
          }
        },
        {
          "output_type": "display_data",
          "data": {
            "image/png": "[encoded data removed]",
            "text/plain": [
              "<Figure size 432x288 with 1 Axes>"
            ]
          },
          "metadata": {
            "tags": [],
            "needs_background": "light"
          }
        }
      ]
    },
    {
      "cell_type": "code",
      "metadata": {
        "id": "CM_icncct2IT"
      },
      "source": [
        ""
      ],
      "execution_count": null,
      "outputs": []
    }
  ]
}